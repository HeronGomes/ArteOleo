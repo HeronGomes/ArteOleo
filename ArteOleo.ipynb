{
 "cells": [
  {
   "cell_type": "code",
   "execution_count": 1,
   "metadata": {},
   "outputs": [],
   "source": [
    "import cv2 as cv\n",
    "import numpy as np"
   ]
  },
  {
   "cell_type": "code",
   "execution_count": 54,
   "metadata": {},
   "outputs": [],
   "source": [
    "imagem_original = cv.imread('9.jpg')"
   ]
  },
  {
   "cell_type": "code",
   "execution_count": 55,
   "metadata": {},
   "outputs": [],
   "source": [
    "cv.imshow('original',imagem_original)\n",
    "cv.waitKey()\n",
    "cv.destroyAllWindows()"
   ]
  },
  {
   "cell_type": "code",
   "execution_count": 56,
   "metadata": {},
   "outputs": [],
   "source": [
    "imgAssinatura = np.zeros((50,800,3),np.uint8)\n",
    "cv.putText(imgAssinatura,'Remember the past: Heron TF Gomes',(5,25),cv.FONT_HERSHEY_SCRIPT_COMPLEX ,0.7,(190,190,190),1,cv.LINE_AA )\n",
    "cv.putText(imgAssinatura,'19/04/2021',(5,45),cv.FONT_HERSHEY_SCRIPT_SIMPLEX ,0.4,(190,190,190),1,cv.LINE_AA )\n",
    "res = cv.xphoto.oilPainting(imagem_original, 5, 2)\n",
    "res = cv.resize(res,(800,800))\n",
    "resultado = cv.vconcat([res,imgAssinatura])"
   ]
  },
  {
   "cell_type": "code",
   "execution_count": 57,
   "metadata": {},
   "outputs": [],
   "source": [
    "cv.imshow('Arte',resultado)\n",
    "cv.waitKey()\n",
    "cv.destroyAllWindows()"
   ]
  },
  {
   "cell_type": "code",
   "execution_count": 58,
   "metadata": {},
   "outputs": [
    {
     "data": {
      "text/plain": [
       "True"
      ]
     },
     "execution_count": 58,
     "metadata": {},
     "output_type": "execute_result"
    }
   ],
   "source": [
    "cv.imwrite('Arte9.jpg',resultado)"
   ]
  },
  {
   "cell_type": "code",
   "execution_count": null,
   "metadata": {},
   "outputs": [],
   "source": []
  }
 ],
 "metadata": {
  "kernelspec": {
   "display_name": "Python 3",
   "language": "python",
   "name": "python3"
  },
  "language_info": {
   "codemirror_mode": {
    "name": "ipython",
    "version": 3
   },
   "file_extension": ".py",
   "mimetype": "text/x-python",
   "name": "python",
   "nbconvert_exporter": "python",
   "pygments_lexer": "ipython3",
   "version": "3.9.1"
  }
 },
 "nbformat": 4,
 "nbformat_minor": 4
}
